{
 "cells": [
  {
   "cell_type": "markdown",
   "id": "3abd074f",
   "metadata": {},
   "source": [
    "# Write a program to implement Vigenère Cipher encryption for any given plain text."
   ]
  },
  {
   "cell_type": "code",
   "execution_count": 1,
   "id": "c6c39303",
   "metadata": {},
   "outputs": [
    {
     "name": "stdout",
     "output_type": "stream",
     "text": [
      "Enter your name: Hello world\n",
      "Encrypted text: SIRWSCZVRO\n"
     ]
    }
   ],
   "source": [
    "def vigenere_cipher_encrypt(plain_text, key):\n",
    "    encrypted_text = []\n",
    "    key = key.upper()  # Convert the key to uppercase for consistency\n",
    "    key_length = len(key)\n",
    "    key_as_int = [ord(i) - 65 for i in key]  # Convert key to corresponding integer values\n",
    "    plain_text_int = [ord(i) - 65 if i.isupper() else ord(i) - 97 for i in plain_text if i.isalpha()]  # Convert plain text to integers\n",
    "\n",
    "    for i in range(len(plain_text_int)):\n",
    "        value = (plain_text_int[i] + key_as_int[i % key_length]) % 26\n",
    "        encrypted_text.append(chr(value + 65))  # Convert back to character\n",
    "\n",
    "    return ''.join(encrypted_text)\n",
    "\n",
    "# Example usage with the student's name as the plain text\n",
    "plain_text = input(\"Enter your name: \")  # Use student's name as input\n",
    "key = \"LEG\"\n",
    "cipher_text = vigenere_cipher_encrypt(plain_text, key)\n",
    "print(f\"Encrypted text: {cipher_text}\")\n"
   ]
  },
  {
   "cell_type": "code",
   "execution_count": null,
   "id": "d8544ba0",
   "metadata": {},
   "outputs": [],
   "source": []
  }
 ],
 "metadata": {
  "kernelspec": {
   "display_name": "Python 3 (ipykernel)",
   "language": "python",
   "name": "python3"
  },
  "language_info": {
   "codemirror_mode": {
    "name": "ipython",
    "version": 3
   },
   "file_extension": ".py",
   "mimetype": "text/x-python",
   "name": "python",
   "nbconvert_exporter": "python",
   "pygments_lexer": "ipython3",
   "version": "3.11.4"
  }
 },
 "nbformat": 4,
 "nbformat_minor": 5
}
