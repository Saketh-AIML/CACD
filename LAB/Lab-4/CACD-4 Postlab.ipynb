{
 "cells": [
  {
   "cell_type": "markdown",
   "id": "9062bc08",
   "metadata": {},
   "source": [
    "# Write a program to implement Vigenère Cipher decryption for any given plain text."
   ]
  },
  {
   "cell_type": "code",
   "execution_count": 1,
   "id": "b8679ce4",
   "metadata": {},
   "outputs": [
    {
     "name": "stdout",
     "output_type": "stream",
     "text": [
      "Enter the encrypted text: SIRWSCZVRO\n",
      "Decrypted text: HELLOWORLD\n"
     ]
    }
   ],
   "source": [
    "def vigenere_cipher_decrypt(cipher_text, key):\n",
    "    decrypted_text = []\n",
    "    key = key.upper()  # Convert the key to uppercase for consistency\n",
    "    key_length = len(key)\n",
    "    key_as_int = [ord(i) - 65 for i in key]  # Convert key to corresponding integer values\n",
    "    cipher_text_int = [ord(i) - 65 if i.isupper() else ord(i) - 97 for i in cipher_text if i.isalpha()]  # Convert cipher text to integers\n",
    "\n",
    "    for i in range(len(cipher_text_int)):\n",
    "        value = (cipher_text_int[i] - key_as_int[i % key_length]) % 26\n",
    "        decrypted_text.append(chr(value + 65))  # Convert back to character\n",
    "\n",
    "    return ''.join(decrypted_text)\n",
    "\n",
    "# Example usage with the student's name as the cipher text\n",
    "cipher_text = input(\"Enter the encrypted text: \")  # Use the encrypted name as input\n",
    "key = \"LEG\"\n",
    "plain_text = vigenere_cipher_decrypt(cipher_text, key)\n",
    "print(f\"Decrypted text: {plain_text}\")"
   ]
  }
 ],
 "metadata": {
  "kernelspec": {
   "display_name": "Python 3 (ipykernel)",
   "language": "python",
   "name": "python3"
  },
  "language_info": {
   "codemirror_mode": {
    "name": "ipython",
    "version": 3
   },
   "file_extension": ".py",
   "mimetype": "text/x-python",
   "name": "python",
   "nbconvert_exporter": "python",
   "pygments_lexer": "ipython3",
   "version": "3.11.4"
  }
 },
 "nbformat": 4,
 "nbformat_minor": 5
}
