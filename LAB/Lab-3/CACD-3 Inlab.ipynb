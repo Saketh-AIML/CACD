{
 "cells": [
  {
   "cell_type": "markdown",
   "id": "7559c9d6",
   "metadata": {},
   "source": [
    "# Write a program to implement Ceasar Cipher encryption for any given plain text. "
   ]
  },
  {
   "cell_type": "code",
   "execution_count": 1,
   "id": "b7cdbb16",
   "metadata": {},
   "outputs": [
    {
     "name": "stdout",
     "output_type": "stream",
     "text": [
      "Encrypted text: Khoor, Zruog!\n"
     ]
    }
   ],
   "source": [
    "def caesar_cipher_encrypt(text, shift):\n",
    "    encrypted_text = \"\"\n",
    "    \n",
    "    for char in text:\n",
    "        # Check if the character is an uppercase letter\n",
    "        if char.isupper():\n",
    "            encrypted_text += chr((ord(char) + shift - 65) % 26 + 65)\n",
    "        # Check if the character is a lowercase letter\n",
    "        elif char.islower():\n",
    "            encrypted_text += chr((ord(char) + shift - 97) % 26 + 97)\n",
    "        else:\n",
    "            # If it's not a letter, keep the character as is\n",
    "            encrypted_text += char\n",
    "    \n",
    "    return encrypted_text\n",
    "\n",
    "# Example usage\n",
    "plain_text = \"Hello, World!\"\n",
    "shift = 3\n",
    "cipher_text = caesar_cipher_encrypt(plain_text, shift)\n",
    "print(f\"Encrypted text: {cipher_text}\")\n"
   ]
  }
 ],
 "metadata": {
  "kernelspec": {
   "display_name": "Python 3 (ipykernel)",
   "language": "python",
   "name": "python3"
  },
  "language_info": {
   "codemirror_mode": {
    "name": "ipython",
    "version": 3
   },
   "file_extension": ".py",
   "mimetype": "text/x-python",
   "name": "python",
   "nbconvert_exporter": "python",
   "pygments_lexer": "ipython3",
   "version": "3.11.4"
  }
 },
 "nbformat": 4,
 "nbformat_minor": 5
}
