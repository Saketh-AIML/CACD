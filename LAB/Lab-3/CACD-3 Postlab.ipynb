{
 "cells": [
  {
   "cell_type": "markdown",
   "id": "27cc07ac",
   "metadata": {},
   "source": [
    "# Write a program to implement Ceasar Cipher decryption for any given plain text."
   ]
  },
  {
   "cell_type": "code",
   "execution_count": 1,
   "id": "b967c0f2",
   "metadata": {},
   "outputs": [
    {
     "name": "stdout",
     "output_type": "stream",
     "text": [
      "Decrypted text: Hello, World!\n"
     ]
    }
   ],
   "source": [
    "def caesar_cipher_decrypt(cipher_text, shift):\n",
    "    decrypted_text = \"\"\n",
    "    \n",
    "    for char in cipher_text:\n",
    "        # Check if the character is an uppercase letter\n",
    "        if char.isupper():\n",
    "            decrypted_text += chr((ord(char) - shift - 65) % 26 + 65)\n",
    "        # Check if the character is a lowercase letter\n",
    "        elif char.islower():\n",
    "            decrypted_text += chr((ord(char) - shift - 97) % 26 + 97)\n",
    "        else:\n",
    "            # If it's not a letter, keep the character as is\n",
    "            decrypted_text += char\n",
    "    \n",
    "    return decrypted_text\n",
    "\n",
    "# Example usage\n",
    "cipher_text = \"Khoor, Zruog!\"\n",
    "shift = 3\n",
    "plain_text = caesar_cipher_decrypt(cipher_text, shift)\n",
    "print(f\"Decrypted text: {plain_text}\")"
   ]
  }
 ],
 "metadata": {
  "kernelspec": {
   "display_name": "Python 3 (ipykernel)",
   "language": "python",
   "name": "python3"
  },
  "language_info": {
   "codemirror_mode": {
    "name": "ipython",
    "version": 3
   },
   "file_extension": ".py",
   "mimetype": "text/x-python",
   "name": "python",
   "nbconvert_exporter": "python",
   "pygments_lexer": "ipython3",
   "version": "3.11.4"
  }
 },
 "nbformat": 4,
 "nbformat_minor": 5
}
