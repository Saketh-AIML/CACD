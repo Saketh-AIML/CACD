{
 "cells": [
  {
   "cell_type": "markdown",
   "id": "c63ef61b",
   "metadata": {},
   "source": [
    "# Write a program to implement Hill Cipher (decryption) for a given plain text."
   ]
  },
  {
   "cell_type": "code",
   "execution_count": 8,
   "id": "26b9d00e",
   "metadata": {},
   "outputs": [
    {
     "name": "stdout",
     "output_type": "stream",
     "text": [
      "Plaintext: WBA\n"
     ]
    }
   ],
   "source": [
    "import numpy as np\n",
    "\n",
    "def char_to_num(c):\n",
    "    \"\"\"Convert a character to its corresponding numerical value (A=0, B=1, ..., Z=25).\"\"\"\n",
    "    return ord(c) - ord('A')\n",
    "\n",
    "def num_to_char(n):\n",
    "    \"\"\"Convert a numerical value to its corresponding character (0=A, 1=B, ..., 25=Z).\"\"\"\n",
    "    return chr(n + ord('A'))\n",
    "\n",
    "def create_key_matrix(key):\n",
    "    \"\"\"Create a square matrix from the key.\"\"\"\n",
    "    size = int(len(key) ** 0.5)\n",
    "    matrix = np.zeros((size, size), dtype=int)\n",
    "    k = 0\n",
    "    for i in range(size):\n",
    "        for j in range(size):\n",
    "            matrix[i][j] = char_to_num(key[k])\n",
    "            k += 1\n",
    "    return matrix\n",
    "\n",
    "def mod_inv(a, m):\n",
    "    \"\"\"Find the modular inverse of a number a under modulo m.\"\"\"\n",
    "    a = a % m\n",
    "    for x in range(1, m):\n",
    "        if (a * x) % m == 1:\n",
    "            return x\n",
    "    raise ValueError(f\"No modular inverse for {a} under modulo {m}\")\n",
    "\n",
    "def matrix_mod_inverse(matrix, mod):\n",
    "    \"\"\"Find the modular inverse of a matrix under modulo.\"\"\"\n",
    "    size = matrix.shape[0]\n",
    "    det = int(np.round(np.linalg.det(matrix))) % mod\n",
    "    det_inv = mod_inv(det, mod)\n",
    "    matrix_adj = np.round(np.linalg.inv(matrix).T * np.linalg.det(matrix)).astype(int) % mod\n",
    "    matrix_inv = (det_inv * matrix_adj) % mod\n",
    "    return matrix_inv\n",
    "\n",
    "def hill_cipher_decrypt(ciphertext, key):\n",
    "    \"\"\"Decrypt ciphertext using the Hill Cipher with the provided key.\"\"\"\n",
    "    # Define matrix size\n",
    "    size = int(len(key) ** 0.5)\n",
    "    \n",
    "    # Create key matrix\n",
    "    key_matrix = create_key_matrix(key)\n",
    "    \n",
    "    # Find the inverse key matrix\n",
    "    inverse_key_matrix = matrix_mod_inverse(key_matrix, 26)\n",
    "    \n",
    "    # Prepare ciphertext matrix\n",
    "    ciphertext = ciphertext.upper()\n",
    "    ciphertext_vector = [char_to_num(c) for c in ciphertext]\n",
    "    ciphertext_matrix = np.array(ciphertext_vector).reshape(-1, size).T  # Transpose for multiplication\n",
    "    \n",
    "    # Decrypt the ciphertext\n",
    "    plaintext_matrix = (np.dot(inverse_key_matrix, ciphertext_matrix) % 26).astype(int)\n",
    "    \n",
    "    # Convert the result to string\n",
    "    plaintext_vector = plaintext_matrix.flatten()\n",
    "    plaintext = ''.join(num_to_char(num) for num in plaintext_vector)\n",
    "    \n",
    "    return plaintext\n",
    "\n",
    "# Sample input\n",
    "ciphertext = \"POH\"\n",
    "key = \"IFKVIVVMI\"\n",
    "\n",
    "# Decrypt the ciphertext using Hill Cipher\n",
    "plaintext = hill_cipher_decrypt(ciphertext, key)\n",
    "\n",
    "print(f\"Plaintext: {plaintext}\")"
   ]
  }
 ],
 "metadata": {
  "kernelspec": {
   "display_name": "Python 3 (ipykernel)",
   "language": "python",
   "name": "python3"
  },
  "language_info": {
   "codemirror_mode": {
    "name": "ipython",
    "version": 3
   },
   "file_extension": ".py",
   "mimetype": "text/x-python",
   "name": "python",
   "nbconvert_exporter": "python",
   "pygments_lexer": "ipython3",
   "version": "3.11.4"
  }
 },
 "nbformat": 4,
 "nbformat_minor": 5
}
