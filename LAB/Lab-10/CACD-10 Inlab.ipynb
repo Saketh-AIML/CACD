{
 "cells": [
  {
   "cell_type": "markdown",
   "id": "6137da64",
   "metadata": {},
   "source": [
    "# Write a program to implement Hill Cipher (encryption) for a given plain text. "
   ]
  },
  {
   "cell_type": "code",
   "execution_count": 7,
   "id": "b50ecee2",
   "metadata": {},
   "outputs": [
    {
     "name": "stdout",
     "output_type": "stream",
     "text": [
      "Ciphertext:  POH\n"
     ]
    }
   ],
   "source": [
    "keyMatrix = [[0] * 3 for i in range(3)]\n",
    "messageVector = [[0] for i in range(3)]\n",
    "cipherMatrix = [[0] for i in range(3)]\n",
    "\n",
    "def getKeyMatrix(key):\n",
    "    \"\"\"Generate the key matrix from the key string.\"\"\"\n",
    "    k = 0\n",
    "    for i in range(3):\n",
    "        for j in range(3):\n",
    "            keyMatrix[i][j] = ord(key[k]) % 65\n",
    "            k += 1\n",
    "\n",
    "def encrypt(messageVector):\n",
    "    \"\"\"Encrypt the message vector using the key matrix.\"\"\"\n",
    "    for i in range(3):\n",
    "        for j in range(1):\n",
    "            cipherMatrix[i][j] = 0\n",
    "            for x in range(3):\n",
    "                cipherMatrix[i][j] += (keyMatrix[i][x] * messageVector[x][j])\n",
    "            cipherMatrix[i][j] = cipherMatrix[i][j] % 26\n",
    "\n",
    "def HillCipher(message, key):\n",
    "    \"\"\"Encrypt the message using Hill Cipher with the given key.\"\"\"\n",
    "    getKeyMatrix(key)\n",
    "    for i in range(3):\n",
    "        messageVector[i][0] = ord(message[i]) % 65\n",
    "    encrypt(messageVector)\n",
    "    CipherText = []\n",
    "    for i in range(3):\n",
    "        CipherText.append(chr(cipherMatrix[i][0] + 65))\n",
    "    \n",
    "    print(\"Ciphertext: \", \"\".join(CipherText))\n",
    "\n",
    "# Driver Code\n",
    "def main():\n",
    "    message = \"ACT\"\n",
    "    key = \"GYBNQKURP\"\n",
    "    HillCipher(message, key)\n",
    "\n",
    "if __name__ == \"__main__\":\n",
    "    main()"
   ]
  }
 ],
 "metadata": {
  "kernelspec": {
   "display_name": "Python 3 (ipykernel)",
   "language": "python",
   "name": "python3"
  },
  "language_info": {
   "codemirror_mode": {
    "name": "ipython",
    "version": 3
   },
   "file_extension": ".py",
   "mimetype": "text/x-python",
   "name": "python",
   "nbconvert_exporter": "python",
   "pygments_lexer": "ipython3",
   "version": "3.11.4"
  }
 },
 "nbformat": 4,
 "nbformat_minor": 5
}
