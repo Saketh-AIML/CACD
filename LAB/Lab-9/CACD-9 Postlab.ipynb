{
 "cells": [
  {
   "cell_type": "markdown",
   "id": "5b1a0493",
   "metadata": {},
   "source": [
    "# Write a program to implement One time Pad Cipher (decryption) for a given plain text. "
   ]
  },
  {
   "cell_type": "code",
   "execution_count": 1,
   "id": "18b3a998",
   "metadata": {},
   "outputs": [
    {
     "name": "stdout",
     "output_type": "stream",
     "text": [
      "Decrypted text: HELLO\n"
     ]
    }
   ],
   "source": [
    "def otp_cipher_decrypt(cipher_text, key):\n",
    "    # Define the alphabet\n",
    "    alphabet = 'ABCDEFGHIJKLMNOPQRSTUVWXYZ'\n",
    "    \n",
    "    # Convert characters to uppercase\n",
    "    cipher_text = cipher_text.upper()\n",
    "    key = key.upper()\n",
    "    \n",
    "    # Ensure the key length matches the ciphertext length\n",
    "    if len(key) != len(cipher_text):\n",
    "        raise ValueError(\"Key length must be equal to the ciphertext length\")\n",
    "    \n",
    "    # Create the decryption dictionary\n",
    "    char_to_num = {char: i for i, char in enumerate(alphabet)}\n",
    "    num_to_char = {i: char for i, char in enumerate(alphabet)}\n",
    "    \n",
    "    # Decrypt the ciphertext\n",
    "    plain_text = []\n",
    "    for ct_char, key_char in zip(cipher_text, key):\n",
    "        ct_num = char_to_num[ct_char]\n",
    "        key_num = char_to_num[key_char]\n",
    "        decrypted_num = (ct_num - key_num) % 26\n",
    "        plain_text.append(num_to_char[decrypted_num])\n",
    "    \n",
    "    return ''.join(plain_text)\n",
    "\n",
    "# Sample input\n",
    "cipher_text = \"EQNVZ\"\n",
    "key = \"XMCKL\"\n",
    "\n",
    "# Decrypt the ciphertext using One-Time Pad Cipher\n",
    "plain_text = otp_cipher_decrypt(cipher_text, key)\n",
    "\n",
    "print(f\"Decrypted text: {plain_text}\")\n"
   ]
  }
 ],
 "metadata": {
  "kernelspec": {
   "display_name": "Python 3 (ipykernel)",
   "language": "python",
   "name": "python3"
  },
  "language_info": {
   "codemirror_mode": {
    "name": "ipython",
    "version": 3
   },
   "file_extension": ".py",
   "mimetype": "text/x-python",
   "name": "python",
   "nbconvert_exporter": "python",
   "pygments_lexer": "ipython3",
   "version": "3.11.4"
  }
 },
 "nbformat": 4,
 "nbformat_minor": 5
}
