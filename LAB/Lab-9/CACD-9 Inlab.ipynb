{
 "cells": [
  {
   "cell_type": "markdown",
   "id": "177ce899",
   "metadata": {},
   "source": [
    "# Write a program to implement One time Pad Cipher (encryption) for a given plain text. "
   ]
  },
  {
   "cell_type": "code",
   "execution_count": 1,
   "id": "42692d8b",
   "metadata": {},
   "outputs": [
    {
     "name": "stdout",
     "output_type": "stream",
     "text": [
      "Encrypted text: EQNVZ\n"
     ]
    }
   ],
   "source": [
    "def otp_cipher_encrypt(plain_text, key):\n",
    "    # Define the alphabet\n",
    "    alphabet = 'ABCDEFGHIJKLMNOPQRSTUVWXYZ'\n",
    "    \n",
    "    # Convert characters to uppercase\n",
    "    plain_text = plain_text.upper()\n",
    "    key = key.upper()\n",
    "    \n",
    "    # Ensure the key length matches the plaintext length\n",
    "    if len(key) != len(plain_text):\n",
    "        raise ValueError(\"Key length must be equal to the plaintext length\")\n",
    "    \n",
    "    # Create the encryption dictionary\n",
    "    char_to_num = {char: i for i, char in enumerate(alphabet)}\n",
    "    num_to_char = {i: char for i, char in enumerate(alphabet)}\n",
    "    \n",
    "    # Encrypt the plaintext\n",
    "    cipher_text = []\n",
    "    for pt_char, key_char in zip(plain_text, key):\n",
    "        pt_num = char_to_num[pt_char]\n",
    "        key_num = char_to_num[key_char]\n",
    "        encrypted_num = (pt_num + key_num) % 26\n",
    "        cipher_text.append(num_to_char[encrypted_num])\n",
    "    \n",
    "    return ''.join(cipher_text)\n",
    "\n",
    "# Sample input\n",
    "plain_text = \"HELLO\"\n",
    "key = \"XMCKL\"\n",
    "\n",
    "# Encrypt the plaintext using One-Time Pad Cipher\n",
    "cipher_text = otp_cipher_encrypt(plain_text, key)\n",
    "\n",
    "print(f\"Encrypted text: {cipher_text}\")"
   ]
  }
 ],
 "metadata": {
  "kernelspec": {
   "display_name": "Python 3 (ipykernel)",
   "language": "python",
   "name": "python3"
  },
  "language_info": {
   "codemirror_mode": {
    "name": "ipython",
    "version": 3
   },
   "file_extension": ".py",
   "mimetype": "text/x-python",
   "name": "python",
   "nbconvert_exporter": "python",
   "pygments_lexer": "ipython3",
   "version": "3.11.4"
  }
 },
 "nbformat": 4,
 "nbformat_minor": 5
}
