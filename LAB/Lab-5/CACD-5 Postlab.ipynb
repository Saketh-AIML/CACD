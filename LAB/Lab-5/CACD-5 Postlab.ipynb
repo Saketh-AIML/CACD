{
 "cells": [
  {
   "cell_type": "markdown",
   "id": "2082b86a",
   "metadata": {},
   "source": [
    "# Write a program to implement Affine Cipher encryption for any given plain text. "
   ]
  },
  {
   "cell_type": "code",
   "execution_count": 4,
   "id": "3f6654a2",
   "metadata": {},
   "outputs": [
    {
     "name": "stdout",
     "output_type": "stream",
     "text": [
      "Enter the encrypted text: hello world\n",
      "Decrypted text: apggr drcgu\n"
     ]
    }
   ],
   "source": [
    "# Function to find modular inverse of a under modulo m using Extended Euclidean Algorithm\n",
    "def mod_inverse(a, m):\n",
    "    for x in range(1, m):\n",
    "        if (a * x) % m == 1:\n",
    "            return x\n",
    "    return None\n",
    "\n",
    "def affine_cipher_decrypt(cipher_text, a, b):\n",
    "    decrypted_text = []\n",
    "    m = 26  # Number of letters in the English alphabet\n",
    "    a_inv = mod_inverse(a, m)  # Find the modular inverse of a\n",
    "\n",
    "    if a_inv is None:\n",
    "        return \"Decryption not possible, 'a' has no modular inverse under modulo 26.\"\n",
    "\n",
    "    for char in cipher_text:\n",
    "        if char.isalpha():  # Decrypt only alphabetic characters\n",
    "            char = char.lower()  # Convert to lowercase for simplicity\n",
    "            x = ord(char) - 97  # Convert character to corresponding integer (a=0, b=1, ..., z=25)\n",
    "            decrypted_char = (a_inv * (x - b)) % m  # Apply the decryption formula\n",
    "            decrypted_text.append(chr(decrypted_char + 97))  # Convert back to a character\n",
    "        else:\n",
    "            decrypted_text.append(char)  # Keep non-alphabet characters unchanged\n",
    "\n",
    "    return ''.join(decrypted_text)\n",
    "\n",
    "# Example usage with the student's name as the cipher text\n",
    "cipher_text = input(\"Enter the encrypted text: \")  # Use the encrypted name as input\n",
    "a = 5\n",
    "b = 7\n",
    "plain_text = affine_cipher_decrypt(cipher_text, a, b)\n",
    "print(f\"Decrypted text: {plain_text}\")"
   ]
  }
 ],
 "metadata": {
  "kernelspec": {
   "display_name": "Python 3 (ipykernel)",
   "language": "python",
   "name": "python3"
  },
  "language_info": {
   "codemirror_mode": {
    "name": "ipython",
    "version": 3
   },
   "file_extension": ".py",
   "mimetype": "text/x-python",
   "name": "python",
   "nbconvert_exporter": "python",
   "pygments_lexer": "ipython3",
   "version": "3.11.4"
  }
 },
 "nbformat": 4,
 "nbformat_minor": 5
}
