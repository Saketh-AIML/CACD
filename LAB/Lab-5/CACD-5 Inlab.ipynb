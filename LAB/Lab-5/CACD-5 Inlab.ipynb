{
 "cells": [
  {
   "cell_type": "markdown",
   "id": "03127364",
   "metadata": {},
   "source": [
    "# Write a program to implement Affine Cipher encryption for any given plain text. "
   ]
  },
  {
   "cell_type": "code",
   "execution_count": 1,
   "id": "93725435",
   "metadata": {},
   "outputs": [
    {
     "name": "stdout",
     "output_type": "stream",
     "text": [
      "Enter your name: Hello world\n",
      "Encrypted text: jxzzl rlxzt\n"
     ]
    }
   ],
   "source": [
    "def affine_cipher_encrypt(plain_text, a, b):\n",
    "    encrypted_text = []\n",
    "    m = 26  # Number of letters in the English alphabet\n",
    "\n",
    "    for char in plain_text:\n",
    "        if char.isalpha():  # Encrypt only alphabetic characters\n",
    "            char = char.lower()  # Convert to lowercase for simplicity\n",
    "            x = ord(char) - 97  # Convert character to corresponding integer (a=0, b=1, ..., z=25)\n",
    "            encrypted_char = (a * x + b) % m  # Apply the encryption formula\n",
    "            encrypted_text.append(chr(encrypted_char + 97))  # Convert back to a character\n",
    "        else:\n",
    "            encrypted_text.append(char)  # Keep non-alphabet characters unchanged\n",
    "\n",
    "    return ''.join(encrypted_text)\n",
    "\n",
    "# Example usage with the student's name as the plain text\n",
    "plain_text = input(\"Enter your name: \")  # Use student's name as input\n",
    "a = 4\n",
    "b = 7\n",
    "cipher_text = affine_cipher_encrypt(plain_text, a, b)\n",
    "print(f\"Encrypted text: {cipher_text}\")"
   ]
  }
 ],
 "metadata": {
  "kernelspec": {
   "display_name": "Python 3 (ipykernel)",
   "language": "python",
   "name": "python3"
  },
  "language_info": {
   "codemirror_mode": {
    "name": "ipython",
    "version": 3
   },
   "file_extension": ".py",
   "mimetype": "text/x-python",
   "name": "python",
   "nbconvert_exporter": "python",
   "pygments_lexer": "ipython3",
   "version": "3.11.4"
  }
 },
 "nbformat": 4,
 "nbformat_minor": 5
}
