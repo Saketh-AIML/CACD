{
 "cells": [
  {
   "cell_type": "markdown",
   "id": "c24e84a5",
   "metadata": {},
   "source": [
    "# LAB-5"
   ]
  },
  {
   "cell_type": "code",
   "execution_count": 1,
   "id": "925a5404",
   "metadata": {},
   "outputs": [
    {
     "name": "stdout",
     "output_type": "stream",
     "text": [
      "Encrypted Text: UBBAHKCAPJKX\n",
      "Decrypted Text: AFFINECIPHER\n"
     ]
    }
   ],
   "source": [
    "def egcd(a, b):\n",
    "    x,y, u,v = 0,1, 1,0\n",
    "    while a != 0:\n",
    "        q, r = b//a, b%a\n",
    "        m, n = x-u*q, y-v*q\n",
    "        b,a, x,y, u,v = a,r, u,v, m,n\n",
    "    gcd = b\n",
    "    return gcd, x, y\n",
    "\n",
    "def modinv(a, m):\n",
    "    gcd, x, y = egcd(a, m)\n",
    "    if gcd != 1:\n",
    "        return None # modular inverse does not exist\n",
    "    else:\n",
    "        return x % m\n",
    "def affine_encrypt(text, key):\n",
    "    '''\n",
    "    C = (a*P + b) % 26\n",
    "    '''\n",
    "    return ''.join([ chr((( key[0]*(ord(t) - ord('A')) + key[1] ) % 26) \n",
    "                + ord('A')) for t in text.upper().replace(' ', '') ])\n",
    "\n",
    "def affine_decrypt(cipher, key):\n",
    "    '''\n",
    "    P = (a^-1 * (C - b)) % 26\n",
    "    '''\n",
    "    return ''.join([ chr((( modinv(key[0], 26)*(ord(c) - ord('A') - key[1])) \n",
    "                    % 26) + ord('A')) for c in cipher ])\n",
    "\n",
    "def main():\n",
    "    # declaring text and key\n",
    "    text = 'AFFINE CIPHER'\n",
    "    key = [17, 20]\n",
    "    affine_encrypted_text = affine_encrypt(text, key)\n",
    "\n",
    "    print('Encrypted Text: {}'.format( affine_encrypted_text ))\n",
    "\n",
    "    # calling decryption function\n",
    "    print('Decrypted Text: {}'.format\n",
    "    ( affine_decrypt(affine_encrypted_text, key) ))\n",
    "\n",
    "\n",
    "if __name__ == '__main__':\n",
    "    main()"
   ]
  },
  {
   "cell_type": "code",
   "execution_count": null,
   "id": "93725435",
   "metadata": {},
   "outputs": [],
   "source": []
  }
 ],
 "metadata": {
  "kernelspec": {
   "display_name": "Python 3 (ipykernel)",
   "language": "python",
   "name": "python3"
  },
  "language_info": {
   "codemirror_mode": {
    "name": "ipython",
    "version": 3
   },
   "file_extension": ".py",
   "mimetype": "text/x-python",
   "name": "python",
   "nbconvert_exporter": "python",
   "pygments_lexer": "ipython3",
   "version": "3.11.4"
  }
 },
 "nbformat": 4,
 "nbformat_minor": 5
}
