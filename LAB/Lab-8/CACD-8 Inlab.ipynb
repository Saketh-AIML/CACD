{
 "cells": [
  {
   "cell_type": "markdown",
   "id": "34861a16",
   "metadata": {},
   "source": [
    "# Write a program to implement Columnar Cipher (encryption) for a given plain text. "
   ]
  },
  {
   "cell_type": "code",
   "execution_count": 4,
   "id": "b2446d5b",
   "metadata": {},
   "outputs": [
    {
     "name": "stdout",
     "output_type": "stream",
     "text": [
      "Encrypted text: CHLHANATKKOU\n"
     ]
    }
   ],
   "source": [
    "def columnar_cipher_encrypt(plain_text, key):\n",
    "    num_columns = len(key)\n",
    "    num_rows = (len(plain_text) + num_columns - 1) // num_columns  # Ceiling division\n",
    "\n",
    "    # Pad the plaintext if needed\n",
    "    padded_text = plain_text.ljust(num_rows * num_columns)\n",
    "    \n",
    "    # Create the grid\n",
    "    grid = [padded_text[i * num_columns:(i + 1) * num_columns] for i in range(num_rows)]\n",
    "    \n",
    "    # Create columns based on key order\n",
    "    columns = ['' for _ in range(num_columns)]\n",
    "    for i in range(num_columns):\n",
    "        columns[key[i] - 1] = ''.join(row[i] for row in grid)\n",
    "    \n",
    "    # Combine columns to form the final ciphertext\n",
    "    cipher_text = ''.join(columns)\n",
    "    \n",
    "    return cipher_text\n",
    "\n",
    "# Sample input\n",
    "plain_text = \"HACKATHONKLU\"\n",
    "key = [2, 3, 1, 4]\n",
    "\n",
    "# Encrypt the plain text using Columnar Cipher\n",
    "cipher_text = columnar_cipher_encrypt(plain_text, key)\n",
    "\n",
    "print(f\"Encrypted text: {cipher_text}\")\n"
   ]
  }
 ],
 "metadata": {
  "kernelspec": {
   "display_name": "Python 3 (ipykernel)",
   "language": "python",
   "name": "python3"
  },
  "language_info": {
   "codemirror_mode": {
    "name": "ipython",
    "version": 3
   },
   "file_extension": ".py",
   "mimetype": "text/x-python",
   "name": "python",
   "nbconvert_exporter": "python",
   "pygments_lexer": "ipython3",
   "version": "3.11.4"
  }
 },
 "nbformat": 4,
 "nbformat_minor": 5
}
