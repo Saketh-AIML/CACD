{
 "cells": [
  {
   "cell_type": "markdown",
   "id": "fde401e6",
   "metadata": {},
   "source": [
    "# Write a program to implement Columnar Cipher (decryption) for a given plain text."
   ]
  },
  {
   "cell_type": "code",
   "execution_count": 7,
   "id": "7ad67523",
   "metadata": {
    "scrolled": true
   },
   "outputs": [
    {
     "name": "stdout",
     "output_type": "stream",
     "text": [
      "Decrypted text: HACKATHONKLU\n"
     ]
    }
   ],
   "source": [
    "def columnar_cipher_decrypt(cipher_text, key):\n",
    "    num_columns = len(key)\n",
    "    num_rows = len(cipher_text) // num_columns\n",
    "    \n",
    "    # Create a list to store columns based on the key order\n",
    "    columns = ['' for _ in range(num_columns)]\n",
    "    \n",
    "    # Fill columns based on key order\n",
    "    index = 0\n",
    "    for k in sorted(range(num_columns), key=lambda x: key[x]):\n",
    "        columns[k] = cipher_text[index:index + num_rows]\n",
    "        index += num_rows\n",
    "    \n",
    "    # Reconstruct the grid by reading row by row\n",
    "    grid = ['' for _ in range(num_rows)]\n",
    "    for row in range(num_rows):\n",
    "        for col in range(num_columns):\n",
    "            grid[row] += columns[col][row]\n",
    "    \n",
    "    # Combine all rows to form the final plaintext\n",
    "    plain_text = ''.join(grid).strip()\n",
    "    \n",
    "    return plain_text\n",
    "\n",
    "# Sample input\n",
    "cipher_text = \"CHLHANATKKOU\"\n",
    "key = [2, 3, 1, 4]\n",
    "\n",
    "# Decrypt the cipher text using Columnar Cipher\n",
    "plain_text = columnar_cipher_decrypt(cipher_text, key)\n",
    "\n",
    "print(f\"Decrypted text: {plain_text}\")\n"
   ]
  }
 ],
 "metadata": {
  "kernelspec": {
   "display_name": "Python 3 (ipykernel)",
   "language": "python",
   "name": "python3"
  },
  "language_info": {
   "codemirror_mode": {
    "name": "ipython",
    "version": 3
   },
   "file_extension": ".py",
   "mimetype": "text/x-python",
   "name": "python",
   "nbconvert_exporter": "python",
   "pygments_lexer": "ipython3",
   "version": "3.11.4"
  }
 },
 "nbformat": 4,
 "nbformat_minor": 5
}
