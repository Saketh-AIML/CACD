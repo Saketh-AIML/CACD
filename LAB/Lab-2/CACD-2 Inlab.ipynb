{
 "cells": [
  {
   "cell_type": "markdown",
   "id": "7bc9b90e",
   "metadata": {},
   "source": [
    "# LAB-2"
   ]
  },
  {
   "cell_type": "code",
   "execution_count": 2,
   "id": "1e092802",
   "metadata": {},
   "outputs": [
    {
     "name": "stdout",
     "output_type": "stream",
     "text": [
      "Enter a string: KLU\n",
      "Next letter string: 43*\n",
      "Next letter string: KLU\n"
     ]
    }
   ],
   "source": [
    "def XOR_with_127(input_string):\n",
    "    next_string = ''.join(chr(ord(char) ^ 127) for char in input_string)\n",
    "    return next_string\n",
    "def AND_with_127(input_string):\n",
    "    next_string = ''.join(chr(ord(char) & 127) for char in input_string)\n",
    "    return next_string\n",
    "\n",
    "input_string = input(\"Enter a string: \")\n",
    "print(\"Next letter string:\", XOR_with_127(input_string))\n",
    "print(\"Next letter string:\", AND_with_127(input_string))"
   ]
  },
  {
   "cell_type": "code",
   "execution_count": null,
   "id": "78e4cf76",
   "metadata": {},
   "outputs": [],
   "source": []
  }
 ],
 "metadata": {
  "kernelspec": {
   "display_name": "Python 3 (ipykernel)",
   "language": "python",
   "name": "python3"
  },
  "language_info": {
   "codemirror_mode": {
    "name": "ipython",
    "version": 3
   },
   "file_extension": ".py",
   "mimetype": "text/x-python",
   "name": "python",
   "nbconvert_exporter": "python",
   "pygments_lexer": "ipython3",
   "version": "3.11.4"
  }
 },
 "nbformat": 4,
 "nbformat_minor": 5
}
