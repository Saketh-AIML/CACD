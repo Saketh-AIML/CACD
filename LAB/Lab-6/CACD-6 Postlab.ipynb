{
 "cells": [
  {
   "cell_type": "markdown",
   "id": "eb1efb4a",
   "metadata": {},
   "source": [
    "# Write a code to implement decryption for Playfair Cipher Substitution Technique."
   ]
  },
  {
   "cell_type": "code",
   "execution_count": 4,
   "id": "551e6866",
   "metadata": {},
   "outputs": [
    {
     "name": "stdout",
     "output_type": "stream",
     "text": [
      "Key Text: Monarchy\n",
      "Ciphertext: gatlmzclrqtx\n",
      "Deciphered text: instrumentsz\n"
     ]
    }
   ],
   "source": [
    "import numpy as np\n",
    "\n",
    "def to_lower_case(text):\n",
    "    return text.lower()\n",
    "\n",
    "def remove_spaces(text):\n",
    "    return text.replace(\" \", \"\")\n",
    "\n",
    "def generate_key_table(key):\n",
    "    key = remove_spaces(to_lower_case(key))\n",
    "    key = key.replace('j', 'i')\n",
    "    key = ''.join(dict.fromkeys(key))  # Remove duplicate letters\n",
    "\n",
    "    alphabet = \"abcdefghiklmnopqrstuvwxyz\"  # 'j' is excluded\n",
    "    key_table = [c for c in key if c in alphabet]\n",
    "\n",
    "    for char in alphabet:\n",
    "        if char not in key_table:\n",
    "            key_table.append(char)\n",
    "\n",
    "    key_table = np.array(key_table).reshape(5, 5)\n",
    "    return key_table\n",
    "\n",
    "def search(key_table, a, b):\n",
    "    if a == 'j':\n",
    "        a = 'i'\n",
    "    if b == 'j':\n",
    "        b = 'i'\n",
    "\n",
    "    p1 = p2 = None\n",
    "    for i in range(5):\n",
    "        for j in range(5):\n",
    "            if key_table[i, j] == a:\n",
    "                p1 = (i, j)\n",
    "            elif key_table[i, j] == b:\n",
    "                p2 = (i, j)\n",
    "    return p1, p2\n",
    "\n",
    "def decrypt(cipher, key):\n",
    "    key_table = generate_key_table(key)\n",
    "    deciphered = []\n",
    "\n",
    "    for i in range(0, len(cipher), 2):\n",
    "        p1, p2 = search(key_table, cipher[i], cipher[i+1])\n",
    "\n",
    "        if p1[0] == p2[0]:\n",
    "            deciphered.append(key_table[p1[0], (p1[1]-1)%5])\n",
    "            deciphered.append(key_table[p2[0], (p2[1]-1)%5])\n",
    "        elif p1[1] == p2[1]:\n",
    "            deciphered.append(key_table[(p1[0]-1)%5, p1[1]])\n",
    "            deciphered.append(key_table[(p2[0]-1)%5, p2[1]])\n",
    "        else:\n",
    "            deciphered.append(key_table[p1[0], p2[1]])\n",
    "            deciphered.append(key_table[p2[0], p1[1]])\n",
    "\n",
    "    return ''.join(deciphered)\n",
    "\n",
    "# Driver code\n",
    "if __name__ == \"__main__\":\n",
    "    key = \"Monarchy\"\n",
    "    print(\"Key Text:\", key)\n",
    "\n",
    "    cipher = \"gatlmzclrqtx\"\n",
    "    print(\"Ciphertext:\", cipher)\n",
    "\n",
    "    decrypted_text = decrypt(cipher, key)\n",
    "    print(\"Deciphered text:\", decrypted_text)"
   ]
  }
 ],
 "metadata": {
  "kernelspec": {
   "display_name": "Python 3 (ipykernel)",
   "language": "python",
   "name": "python3"
  },
  "language_info": {
   "codemirror_mode": {
    "name": "ipython",
    "version": 3
   },
   "file_extension": ".py",
   "mimetype": "text/x-python",
   "name": "python",
   "nbconvert_exporter": "python",
   "pygments_lexer": "ipython3",
   "version": "3.11.4"
  }
 },
 "nbformat": 4,
 "nbformat_minor": 5
}
