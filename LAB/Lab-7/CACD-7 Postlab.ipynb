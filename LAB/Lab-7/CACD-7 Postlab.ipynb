{
 "cells": [
  {
   "cell_type": "markdown",
   "id": "50f05d38",
   "metadata": {},
   "source": [
    "# Write a program to implement Rail fence Cipher (decryption) for any given plain text. "
   ]
  },
  {
   "cell_type": "code",
   "execution_count": 1,
   "id": "1acc86f6",
   "metadata": {},
   "outputs": [
    {
     "name": "stdout",
     "output_type": "stream",
     "text": [
      "Decrypted text: S21atlocation56\n"
     ]
    }
   ],
   "source": [
    "def decryptRailFence(cipher_text, key):\n",
    "    # Create a rail matrix with placeholders\n",
    "    rail = [['\\n' for _ in range(len(cipher_text))]\n",
    "                for _ in range(key)]\n",
    "    \n",
    "    # Determine the zigzag pattern\n",
    "    dir_down = None\n",
    "    row, col = 0, 0\n",
    "     \n",
    "    # First, mark the positions of the rail matrix\n",
    "    for i in range(len(cipher_text)):\n",
    "        if row == 0 or row == key - 1:\n",
    "            dir_down = not dir_down\n",
    "         \n",
    "        rail[row][col] = '*'\n",
    "        col += 1\n",
    "         \n",
    "        if dir_down:\n",
    "            row += 1\n",
    "        else:\n",
    "            row -= 1\n",
    "    \n",
    "    # Fill the rail matrix with the cipher text\n",
    "    index = 0\n",
    "    for i in range(key):\n",
    "        for j in range(len(cipher_text)):\n",
    "            if ((rail[i][j] == '*') and (index < len(cipher_text))):\n",
    "                rail[i][j] = cipher_text[index]\n",
    "                index += 1\n",
    "    \n",
    "    # Now, read the message using the rail matrix\n",
    "    result = []\n",
    "    row, col = 0, 0\n",
    "    dir_down = None\n",
    "\n",
    "    for i in range(len(cipher_text)):\n",
    "        if row == 0 or row == key - 1:\n",
    "            dir_down = not dir_down\n",
    "        \n",
    "        result.append(rail[row][col])\n",
    "        col += 1\n",
    "        \n",
    "        if dir_down:\n",
    "            row += 1\n",
    "        else:\n",
    "            row -= 1\n",
    "    \n",
    "    return \"\".join(result)\n",
    "     \n",
    "if __name__ == \"__main__\":\n",
    "    # Sample input\n",
    "    cipher_text = \"Si2to1anac5to6l\"\n",
    "    key = 6\n",
    "    \n",
    "    # Decrypt the cipher text using Rail-Fence Cipher\n",
    "    plain_text = decryptRailFence(cipher_text, key)\n",
    "    \n",
    "    print(f\"Decrypted text: {plain_text}\")\n"
   ]
  }
 ],
 "metadata": {
  "kernelspec": {
   "display_name": "Python 3 (ipykernel)",
   "language": "python",
   "name": "python3"
  },
  "language_info": {
   "codemirror_mode": {
    "name": "ipython",
    "version": 3
   },
   "file_extension": ".py",
   "mimetype": "text/x-python",
   "name": "python",
   "nbconvert_exporter": "python",
   "pygments_lexer": "ipython3",
   "version": "3.11.4"
  }
 },
 "nbformat": 4,
 "nbformat_minor": 5
}
