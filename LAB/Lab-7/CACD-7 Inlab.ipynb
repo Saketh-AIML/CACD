{
 "cells": [
  {
   "cell_type": "markdown",
   "id": "1647b628",
   "metadata": {},
   "source": [
    "# Write a program to implement Rail-Fence Cipher (encryption) for any given plain text. "
   ]
  },
  {
   "cell_type": "code",
   "execution_count": 8,
   "id": "3ca5ae68",
   "metadata": {},
   "outputs": [
    {
     "name": "stdout",
     "output_type": "stream",
     "text": [
      "Encrypted text: Sn2o51i6lt oac\n"
     ]
    }
   ],
   "source": [
    "def encryptRailFence(text, key):\n",
    "    # Create the rail matrix\n",
    "    rail = [['\\n' for _ in range(len(text))]\n",
    "                for _ in range(key)]\n",
    "     \n",
    "    # Initialize direction and position\n",
    "    dir_down = False\n",
    "    row, col = 0, 0\n",
    "     \n",
    "    for i in range(len(text)):\n",
    "        if (row == 0) or (row == key - 1):\n",
    "            dir_down = not dir_down\n",
    "         \n",
    "        # Place the character in the rail matrix\n",
    "        rail[row][col] = text[i]\n",
    "        col += 1\n",
    "         \n",
    "        # Update the row index based on direction\n",
    "        if dir_down:\n",
    "            row += 1\n",
    "        else:\n",
    "            row -= 1\n",
    "            \n",
    "    # Construct the cipher text from the rail matrix\n",
    "    result = []\n",
    "    for i in range(key):\n",
    "        for j in range(len(text)):\n",
    "            if rail[i][j] != '\\n':\n",
    "                result.append(rail[i][j])\n",
    "    \n",
    "    return \"\".join(result)\n",
    "     \n",
    "if __name__ == \"__main__\":\n",
    "    # Sample input\n",
    "    plain_text = \"S21location56 \"\n",
    "    key = 6\n",
    "    \n",
    "    # Encrypt the plain text using Rail-Fence Cipher\n",
    "    cipher_text = encryptRailFence(plain_text, key)\n",
    "    \n",
    "    print(f\"Encrypted text: {cipher_text}\")\n"
   ]
  }
 ],
 "metadata": {
  "kernelspec": {
   "display_name": "Python 3 (ipykernel)",
   "language": "python",
   "name": "python3"
  },
  "language_info": {
   "codemirror_mode": {
    "name": "ipython",
    "version": 3
   },
   "file_extension": ".py",
   "mimetype": "text/x-python",
   "name": "python",
   "nbconvert_exporter": "python",
   "pygments_lexer": "ipython3",
   "version": "3.11.4"
  }
 },
 "nbformat": 4,
 "nbformat_minor": 5
}
