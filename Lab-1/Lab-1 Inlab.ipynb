{
 "cells": [
  {
   "cell_type": "markdown",
   "id": "6b8d5942",
   "metadata": {},
   "source": [
    "# LAB-1"
   ]
  },
  {
   "cell_type": "code",
   "execution_count": 1,
   "id": "5752e493",
   "metadata": {},
   "outputs": [
    {
     "name": "stdout",
     "output_type": "stream",
     "text": [
      "Enter a string: hello world\n",
      "Next string: idmmn!vnsme\n"
     ]
    }
   ],
   "source": [
    "input_string = input(\"Enter a string: \")\n",
    "next_string = \"\"\n",
    "for char in input_string:\n",
    "        next_char = chr(ord(char) ^ 1 )\n",
    "        next_string += next_char\n",
    "\n",
    "print(\"Next string:\", next_string)"
   ]
  }
 ],
 "metadata": {
  "kernelspec": {
   "display_name": "Python 3 (ipykernel)",
   "language": "python",
   "name": "python3"
  },
  "language_info": {
   "codemirror_mode": {
    "name": "ipython",
    "version": 3
   },
   "file_extension": ".py",
   "mimetype": "text/x-python",
   "name": "python",
   "nbconvert_exporter": "python",
   "pygments_lexer": "ipython3",
   "version": "3.11.4"
  }
 },
 "nbformat": 4,
 "nbformat_minor": 5
}
