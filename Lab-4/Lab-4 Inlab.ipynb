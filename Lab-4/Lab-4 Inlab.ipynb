{
 "cells": [
  {
   "cell_type": "markdown",
   "id": "3abd074f",
   "metadata": {},
   "source": [
    "# LAB-4"
   ]
  },
  {
   "cell_type": "code",
   "execution_count": 1,
   "id": "c6c39303",
   "metadata": {},
   "outputs": [
    {
     "name": "stdout",
     "output_type": "stream",
     "text": [
      "Encrypted Text: Rcdpm, Agvjv!\n",
      "Decrypted Text: Hello, World!\n"
     ]
    }
   ],
   "source": [
    "def generate_key(msg, key):\n",
    "    key = list(key)\n",
    "    if len(msg) == len(key):\n",
    "        return key\n",
    "    else:\n",
    "        for i in range(len(msg) - len(key)):\n",
    "            key.append(key[i % len(key)])\n",
    "    return \"\".join(key)\n",
    "\n",
    "def encrypt_vigenere(msg, key):\n",
    "    encrypted_text = []\n",
    "    key = generate_key(msg, key)\n",
    "    for i in range(len(msg)):\n",
    "        char = msg[i]\n",
    "        if char.isupper():\n",
    "            encrypted_char = chr((ord(char) + ord(key[i]) - 2 * ord('A')) % 26 + ord('A'))\n",
    "        elif char.islower():\n",
    "            encrypted_char = chr((ord(char) + ord(key[i]) - 2 * ord('a')) % 26 + ord('a'))\n",
    "        else:\n",
    "            encrypted_char = char\n",
    "        encrypted_text.append(encrypted_char)\n",
    "    return \"\".join(encrypted_text)\n",
    "\n",
    "def decrypt_vigenere(msg, key):\n",
    "    decrypted_text = []\n",
    "    key = generate_key(msg, key)\n",
    "    for i in range(len(msg)):\n",
    "        char = msg[i]\n",
    "        if char.isupper():\n",
    "            decrypted_char = chr((ord(char) - ord(key[i]) + 26) % 26 + ord('A'))\n",
    "        elif char.islower():\n",
    "            decrypted_char = chr((ord(char) - ord(key[i]) + 26) % 26 + ord('a'))\n",
    "        else:\n",
    "            decrypted_char = char\n",
    "        decrypted_text.append(decrypted_char)\n",
    "    return \"\".join(decrypted_text)\n",
    "\n",
    "# Example usage\n",
    "text_to_encrypt = \"Hello, World!\"\n",
    "key = \"KEY\"\n",
    "\n",
    "encrypted_text = encrypt_vigenere(text_to_encrypt, key)\n",
    "print(f\"Encrypted Text: {encrypted_text}\")\n",
    "\n",
    "decrypted_text = decrypt_vigenere(encrypted_text, key)\n",
    "print(f\"Decrypted Text: {decrypted_text}\")"
   ]
  }
 ],
 "metadata": {
  "kernelspec": {
   "display_name": "Python 3 (ipykernel)",
   "language": "python",
   "name": "python3"
  },
  "language_info": {
   "codemirror_mode": {
    "name": "ipython",
    "version": 3
   },
   "file_extension": ".py",
   "mimetype": "text/x-python",
   "name": "python",
   "nbconvert_exporter": "python",
   "pygments_lexer": "ipython3",
   "version": "3.11.4"
  }
 },
 "nbformat": 4,
 "nbformat_minor": 5
}
